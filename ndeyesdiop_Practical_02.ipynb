{
 "cells": [
  {
   "cell_type": "markdown",
   "metadata": {
    "id": "RAWKZD-l8aDi"
   },
   "source": [
    "\n",
    "<center>\n",
    "    <a href=\"https://www.aims-senegal.org/\" ><img src=\"aimssn_logo.png\" style=\"float:center; max-width: 600px; display: inline\" alt=\"AIMS-SN\"/> </a>\n",
    "    </center>\n",
    "    \n",
    "#    <center> <b> <span style=\"color:orange;\" >  `Python for Scientific Computing and Software Engineering ` </span> </b></center>\n",
    "\n",
    "\n",
    "## <center> <b> <span style=\"color:orange;\"> An Initiation to Programming using Python (Init2Py) </span> </b></center>\n",
    "\n",
    "### <center> <b> <span style=\"color:blue;\"> Travaux Pratiques: Chaînes de caractères</span> </b></center>\n",
    "\n"
   ]
  },
  {
   "cell_type": "markdown",
   "metadata": {},
   "source": [
    "**EN = English**                     \n",
    "\n",
    "**FR = Français**"
   ]
  },
  {
   "cell_type": "markdown",
   "metadata": {
    "id": "MqQawZ_q8aDl"
   },
   "source": [
    "#### **Exercice 00:**  \n",
    "> **FR: Concaténation des chaînes 'Trente', 'Jours', 'De', 'Python', 'Trente Jours De Python' en une seule chaîne.**\n",
    "\n",
    "> **EN: Concatenation of the strings 'Thirty', 'Days', 'From', 'Python', 'Thirty Days From Python' into one string.**"
   ]
  },
  {
   "cell_type": "code",
   "execution_count": 36,
   "metadata": {
    "id": "_nco70S-8aDo"
   },
   "outputs": [
    {
     "name": "stdout",
     "output_type": "stream",
     "text": [
      "Trente Jours De Python\n"
     ]
    }
   ],
   "source": [
    "a = \"Trente \"\n",
    "b = \"Jours \"\n",
    "c = \"De \"\n",
    "d = \"Python\"\n",
    "E = a + b + c + d\n",
    "print (E)"
   ]
  },
  {
   "cell_type": "markdown",
   "metadata": {
    "id": "UdYv8mBJ8aDt"
   },
   "source": [
    "#### **Exercice 01:**  \n",
    "> **FR: Concaténer la chaîne 'Codage', 'Pour', 'Tous' en une seule chaîne, 'Codage Pour Tous'.**\n",
    "\n",
    "> **EN: Concatenate the string 'Coding', 'For', 'All' into one string, 'Coding For All'.**"
   ]
  },
  {
   "cell_type": "code",
   "execution_count": 41,
   "metadata": {
    "id": "Q-YHaNPp8aDx"
   },
   "outputs": [
    {
     "name": "stdout",
     "output_type": "stream",
     "text": [
      "Codage Pour Tous\n"
     ]
    }
   ],
   "source": [
    "e = \"Codage \"\n",
    "f = \"Pour \"\n",
    "g = \"Tous\"\n",
    "h = e + f + g\n",
    "print(h)"
   ]
  },
  {
   "cell_type": "markdown",
   "metadata": {
    "id": "CBYAS7io8aD0"
   },
   "source": [
    "#### **Exercice 02:**  \n",
    "> FR:\n",
    "> 1. **Déclarer une variable nommée `compagnie` et lui attribuer une valeur initiale `Coding    For All`.**\n",
    "> 2. **Imprimez la variable `compagnie` en utilisant `print()`.**\n",
    "\n",
    "> EN:\n",
    "> 1. **Declare a variable named `company` and give it an initial value `Coding For All`.**\n",
    "> 2. **Print the variable `company` using `print()`.**\n"
   ]
  },
  {
   "cell_type": "code",
   "execution_count": 42,
   "metadata": {
    "id": "crZdf6LS8aD2"
   },
   "outputs": [
    {
     "name": "stdout",
     "output_type": "stream",
     "text": [
      "Coding For All\n"
     ]
    }
   ],
   "source": [
    "company = \"Coding For All\"\n",
    "print(company)"
   ]
  },
  {
   "cell_type": "markdown",
   "metadata": {
    "id": "Sw7GIfGV8aD3"
   },
   "source": [
    "#### **Exercice 03:** \n",
    "> FR:\n",
    ">1. **Imprimez la longueur de la chaîne de la société en utilisant la méthode `len()` et la fonction `print()`.**\n",
    ">2. **Changez tous les caractères en lettres majuscules à l'aide de la méthode `upper()`.**\n",
    ">3. **Changez tous les caractères en minuscules à l'aide de la méthode `lower()`.**\n",
    ">4. **Utilisez les méthodes `capitalize()`, `title()`, `swapcase()` pour formater la valeur de la chaîne `Coding For All\"`.**\n",
    "\n",
    "> EN:\n",
    ">1. **Print the length of the company string using the `len()` method and the `print()` function.**\n",
    ">2. **Change all characters to uppercase using the `upper()` method.**\n",
    ">3. **Change all characters to lowercase using the `lower()` method.**\n",
    ">4. **Use the `capitalize()`, `title()`, `swapcase()` methods to format the value of the `Coding For All\"`string.**\n",
    " "
   ]
  },
  {
   "cell_type": "code",
   "execution_count": 39,
   "metadata": {
    "id": "rFntZB6J8aD6"
   },
   "outputs": [
    {
     "name": "stdout",
     "output_type": "stream",
     "text": [
      "14\n",
      "CODING FOR ALL\n",
      "coding for all\n",
      "Coding for all\n",
      "Coding For All\n",
      "cODING fOR aLL\n"
     ]
    }
   ],
   "source": [
    "print(len(company))\n",
    "company=company.upper()\n",
    "print(company)\n",
    "company=company.lower()\n",
    "print(company)\n",
    "company=company.capitalize()\n",
    "print(company)\n",
    "company=company.title()\n",
    "print(company)\n",
    "company=company.swapcase()\n",
    "print(company)"
   ]
  },
  {
   "cell_type": "markdown",
   "metadata": {
    "id": "QOvVg49v8aD9"
   },
   "source": [
    "#### **Exercice 04:** \n",
    ">FR:\n",
    ">1. **Remplacez le mot `Coding` dans la chaîne `Coding For All` par `Python`.**\n",
    ">2. **Divisez la chaîne `Coding For All` en utilisant l'espace comme séparateur `(split())`.**\n",
    ">3. **Quel est le caractère à l'indice 0 dans la chaîne `Coding For All`?**\n",
    ">4. **Quel est le dernier indice de la chaîne `Coding For All` ?**\n",
    "\n",
    ">EN:\n",
    ">1. **Replace the word `Coding` in the `Coding For All` string with `Python`.**\n",
    ">2. **Split the `Coding For All` string using the space as a separator `(split())`.**.\n",
    ">3. **What is the character at index 0 in the string `Coding For All`?**.\n",
    ">4. **What is the last index of the string `Coding For All`?**."
   ]
  },
  {
   "cell_type": "code",
   "execution_count": 51,
   "metadata": {
    "id": "Q4CYyw1r8aD-"
   },
   "outputs": [
    {
     "name": "stdout",
     "output_type": "stream",
     "text": [
      "Python For All\n",
      "['Coding', 'For', 'All']\n",
      "C\n",
      "l\n"
     ]
    }
   ],
   "source": [
    "print(company.replace('Coding', 'Python'))\n",
    "print(company.split())\n",
    "print(company[0])\n",
    "print(company[13])"
   ]
  },
  {
   "cell_type": "markdown",
   "metadata": {
    "id": "3D3Q3P628aD_"
   },
   "source": [
    "#### **Exercice 05:** \n",
    ">**FR: Etant donné une chaine `__s__`, afficher une chaine faite des deux premiers et\n",
    "des deux derniers caractères.**\n",
    "\n",
    ">**EN: Given a string `__s__`, display a string made of the first two and last two characters the last two characters.**"
   ]
  },
  {
   "cell_type": "code",
   "execution_count": 67,
   "metadata": {
    "id": "LnbrdEnY8aEA"
   },
   "outputs": [
    {
     "name": "stdout",
     "output_type": "stream",
     "text": [
      "ch\n",
      "at\n"
     ]
    }
   ],
   "source": [
    "_s_= \"chocolat\"\n",
    "print(_s_[:2])\n",
    "print(_s_[6:])"
   ]
  },
  {
   "cell_type": "markdown",
   "metadata": {
    "id": "vLipzQ2T8aEA"
   },
   "source": [
    "#### **Exercice 06:** \n",
    "> **FR: Afficher les textes suivants à l’aide d’une seule instruction\n",
    "`print()`** :\n",
    "\n",
    "    un peu\n",
    "    beaucoup\n",
    "    passionnément\n",
    "\n",
    "    \"je t'aime\" dit-elle\n",
    "    \n",
    "    \n",
    "> **EN: Display the following texts with a single statement\n",
    "print()`**     \n",
    "\n",
    "    a little\n",
    "    a lot\n",
    "    passionately\n",
    "\n",
    "    \"I love you\" she says"
   ]
  },
  {
   "cell_type": "code",
   "execution_count": 35,
   "metadata": {
    "id": "N8Y6B2i68aEC"
   },
   "outputs": [
    {
     "name": "stdout",
     "output_type": "stream",
     "text": [
      "un peu \n",
      "beaucoup\n",
      "passionnément\n",
      "\n",
      " \"I love you she\" says\n"
     ]
    }
   ],
   "source": [
    "print(\"un peu \\nbeaucoup\\npassionnément\\n\\n \\\"I love you she\\\" says\")"
   ]
  },
  {
   "cell_type": "markdown",
   "metadata": {
    "id": "77GI9ooS8aEC"
   },
   "source": [
    "#### **Exercice 07:** \n",
    "> **FR: Écrivez un programme pour vérifier si la lettre 'e' est présente dans le mot 'Parapluie'.**\n",
    "\n",
    "> **EN: Write a program to check if the letter 'e' is present in the word 'Umbrella'.**"
   ]
  },
  {
   "cell_type": "code",
   "execution_count": 89,
   "metadata": {
    "id": "FFdDrMKd8aEE"
   },
   "outputs": [
    {
     "name": "stdout",
     "output_type": "stream",
     "text": [
      "True\n"
     ]
    }
   ],
   "source": [
    "d=\"Parapluie\"\n",
    "print(\"e\" in d)"
   ]
  },
  {
   "cell_type": "markdown",
   "metadata": {
    "id": "fQPHnxs18aEE"
   },
   "source": [
    "#### **Exercice 08:** \n",
    "> **FR: Demandez à l'utilisateur de saisir son prénom et son nom de famille en réponse à une seule invite. Utilisez `split()` pour extraire les noms, puis affectez chaque nom à une variable différente.**\n",
    "\n",
    "> **EN: Ask the user to enter their first and last name in response to a single prompt. Use `split()` to extract the names, then assign each name to a different variable.**"
   ]
  },
  {
   "cell_type": "code",
   "execution_count": 114,
   "metadata": {
    "id": "TINJOu3g8aEG"
   },
   "outputs": [
    {
     "name": "stdout",
     "output_type": "stream",
     "text": [
      "Donner votre prenom et votre nom de famille : mama diop\n",
      "['mama', 'diop']\n",
      "mama\n",
      "diop\n"
     ]
    }
   ],
   "source": [
    "ch=input('Donner votre prenom et votre nom de famille : ' )\n",
    "v=ch.split()\n",
    "d=v[0]\n",
    "r=v[1]\n",
    "print(v)\n",
    "print(d)\n",
    "print(r)"
   ]
  },
  {
   "cell_type": "markdown",
   "metadata": {
    "id": "cT6btvDz8aER"
   },
   "source": [
    "#### **Exercice 09:** \n",
    "> **FR: Demandez à l'utilisateur de saisir un mot, puis imprimez la longueur de ce mot.**\n",
    "\n",
    "> **EN: Ask the user to enter a word, then print the length of the word.**\n"
   ]
  },
  {
   "cell_type": "code",
   "execution_count": 116,
   "metadata": {
    "id": "feE7z0Q18aET"
   },
   "outputs": [
    {
     "name": "stdout",
     "output_type": "stream",
     "text": [
      "6\n"
     ]
    }
   ],
   "source": [
    "ch=\"mourir\"\n",
    "print(len(ch))"
   ]
  },
  {
   "cell_type": "markdown",
   "metadata": {
    "id": "QGb8rYYT8aET"
   },
   "source": [
    "#### **Exercice 10:** \n",
    "> **FR: Écrivez un programme pour vérifier si le mot \"orange\" est présent dans l'expression \"Ceci est du jus d'orange\".**\n",
    "\n",
    ">**EN: Write a program to check if the word \"orange\" is present in the expression \"This is orange juice\".**"
   ]
  },
  {
   "cell_type": "code",
   "execution_count": 117,
   "metadata": {
    "id": "uLC2XFSq8aEU"
   },
   "outputs": [
    {
     "name": "stdout",
     "output_type": "stream",
     "text": [
      "True\n"
     ]
    }
   ],
   "source": [
    "ch=\"Ceci est du jus d'orange\"\n",
    "print(\"orange\" in ch)"
   ]
  },
  {
   "cell_type": "markdown",
   "metadata": {
    "id": "F4_j1vsN8aEU"
   },
   "source": [
    "#### **Exercice 11:** \n",
    "> **FR: Ecrivez un programme pour trouver la première et la dernière occurrence de la lettre 'o' et du caractère ',' dans \"Hello, World\".**\n",
    "\n",
    "> **EN: Write a program to find the first and last occurrence of the letter 'o' and the character ',' in \"Hello, World\".**"
   ]
  },
  {
   "cell_type": "code",
   "execution_count": 5,
   "metadata": {
    "id": "GAMvzqzX8aEV"
   },
   "outputs": [
    {
     "name": "stdout",
     "output_type": "stream",
     "text": [
      "première occurrence de la lettre 'o'est : 4\n",
      "dernière occurrence de la lettre 'o'est : 8\n",
      "occurrence du caractere ','est : 5\n"
     ]
    }
   ],
   "source": [
    "ch=\"Hello, Word\"\n",
    "print(\"première occurrence de la lettre 'o'est :\" ,ch.find('o'))\n",
    "print(\"dernière occurrence de la lettre 'o'est :\" ,ch.rfind('o'))\n",
    "print(\"occurrence du caractere ','est :\" ,ch.find(','))"
   ]
  },
  {
   "cell_type": "markdown",
   "metadata": {
    "id": "r_CQjIqd8aEW"
   },
   "source": [
    "#### **Exercice 12:** \n",
    "> **FR: Écrivez un programme qui prend votre nom complet en entrée et affiche les abréviations du prénom et du second prénom, sauf le nom de famille qui est affiché tel quel. Par exemple, si votre nom est `Robert Brett Roser`, le résultat devrait être `R.B.Roser`.**\n",
    "\n",
    ">**EN: Write a program that takes your full name as input and displays the first and middle name abbreviations, except for the last name which is displayed as is. For example, if your name is `Robert Brett Roser`, the result should be `R.B.Roser`.**"
   ]
  },
  {
   "cell_type": "code",
   "execution_count": 8,
   "metadata": {
    "id": "NNWynb7Y8aEW"
   },
   "outputs": [
    {
     "name": "stdout",
     "output_type": "stream",
     "text": [
      "donner votre nom complet : ndeye seye diop\n",
      "['ndeye', 'seye', 'diop']\n",
      "n.s.diop\n"
     ]
    }
   ],
   "source": [
    "ch=input('donner votre nom complet : ' )\n",
    "ch= ch.split()\n",
    "print(ch)\n",
    "a=ch[0]\n",
    "b=ch[1]\n",
    "c=ch[2]\n",
    "print(a.replace(a,a[0]+'.')+b.replace(b,b[0]+'.')+c)"
   ]
  },
  {
   "cell_type": "markdown",
   "metadata": {
    "id": "2DkugJeo8aEW"
   },
   "source": [
    "#### **Exercice 13:** \n",
    "> **FR: Écrivez un programme pour trouver le plus grand et le plus petit mot dans la chaîne \"Ceci est un parapluie\".** \n",
    "\n",
    ">**EN: Write a program to find the largest and smallest words in the string \"This is an umbrella\".**"
   ]
  },
  {
   "cell_type": "code",
   "execution_count": 34,
   "metadata": {
    "id": "NxVgnPk-8aEW"
   },
   "outputs": [
    {
     "name": "stdout",
     "output_type": "stream",
     "text": [
      "un\n",
      "Ceci\n"
     ]
    }
   ],
   "source": [
    "list1= ['Ceci', 'est', 'un','parapluie']\n",
    "print(max(list1))\n",
    "print(min(list1))"
   ]
  },
  {
   "cell_type": "markdown",
   "metadata": {
    "id": "BOXwh7TP8aEW"
   },
   "source": [
    "#### **Exercice 14:** \n",
    "> **FR: Écrivez un programme pour créer une nouvelle chaîne de caractères avec le mot `le` supprimé dans la phrase `C'est le lion dans la cage`.**\n",
    "\n",
    ">**EN: Write a program to create a new string with the word `the` deleted in the sentence `This is the lion in the cage`.**"
   ]
  },
  {
   "cell_type": "code",
   "execution_count": 23,
   "metadata": {
    "id": "EDkYOKMb8aEX"
   },
   "outputs": [
    {
     "name": "stdout",
     "output_type": "stream",
     "text": [
      "['cest', 'lion', 'dans', 'la', 'cage']\n"
     ]
    }
   ],
   "source": [
    "list1= ['cest', 'le', 'lion', 'dans', 'la', 'cage']\n",
    "del list1[1];\n",
    "print(list1)"
   ]
  },
  {
   "cell_type": "markdown",
   "metadata": {
    "id": "yh9w0U9j8aEX"
   },
   "source": [
    "#### **Exercice 14:** \n",
    "> **FR:Créez un programme qui demande à l'utilisateur d'entrer son nom et son âge en 2021. Imprimez un message qui lui est adressé et qui lui indique l'année où il aura 100 ans.**\n",
    "\n",
    ">**EN: Create a program that asks the user to enter their name and age in 2021. Print a message to the user that tells them the year they will be 100 years old.**"
   ]
  },
  {
   "cell_type": "code",
   "execution_count": 6,
   "metadata": {
    "id": "GvFyoDRa8aEY"
   },
   "outputs": [
    {
     "name": "stdout",
     "output_type": "stream",
     "text": [
      "entrer votre nom de\n",
      "entrer votre age en 2021 27\n",
      "2094.0\n"
     ]
    }
   ],
   "source": [
    "ch=input('entrer votre nom ')\n",
    "f=float(input('entrer votre age en 2021 '))\n",
    "d=(100-f)+2021\n",
    "print(d)"
   ]
  },
  {
   "cell_type": "markdown",
   "metadata": {
    "id": "2-Sc_vhb8aEY"
   },
   "source": [
    "#### **Exercice 15:** \n",
    "> **FR:Définissez la variable `x` comme la chaîne de caractères `x`= \"abcde\" .**\n",
    ">1. **Quelle est la valuer de 3*x?**\n",
    ">2. **Quelle est la valuer de x[1]?**\n",
    ">3. **Quelle est la valuer de x[-1]?**\n",
    ">4. **Quelle est la valuer de x[::2]?**\n",
    "\n",
    ">**EN: Set the variable `x` as the string `x`=\"abcde\" .**.\n",
    ">1. **What is the value of 3*x?**\n",
    ">2. **What is the value of x[1]?**\n",
    ">3. **What is the value of x[-1]?**.\n",
    ">4. **What is the value of x[::2]?**"
   ]
  },
  {
   "cell_type": "code",
   "execution_count": 37,
   "metadata": {
    "id": "E9WabTUf8aEZ"
   },
   "outputs": [
    {
     "name": "stdout",
     "output_type": "stream",
     "text": [
      "abcdeabcdeabcde\n",
      "b\n",
      "e\n",
      "ace\n"
     ]
    }
   ],
   "source": [
    "x=\"abcde\"\n",
    "print(3*x)\n",
    "print(x[1])\n",
    "print(x[-1])\n",
    "print(x[::2])"
   ]
  },
  {
   "cell_type": "markdown",
   "metadata": {
    "id": "sFtnj29L8aEa"
   },
   "source": [
    "#### **Exercice 16:** \n",
    ">**FR:Créez une chaîne unique contenant 5 copies de la chaîne 'abc'.**\n",
    "\n",
    ">**EN:Create a single string containing 5 copies of the string 'abc'.**"
   ]
  },
  {
   "cell_type": "code",
   "execution_count": 6,
   "metadata": {
    "id": "BJ12q8Dp8aEb"
   },
   "outputs": [
    {
     "name": "stdout",
     "output_type": "stream",
     "text": [
      "abcabcabcabcabc\n"
     ]
    }
   ],
   "source": [
    "ch=\"abc\"\n",
    "v=5*ch\n",
    "print(v)"
   ]
  },
  {
   "cell_type": "markdown",
   "metadata": {
    "id": "OmIC91BU8aEc"
   },
   "source": [
    "#### **Exercice 17:** \n",
    ">**FR:Utilisez l'opérateur de multiplication pour créer une \"ligne\" de 50 tirets.**\n",
    "\n",
    ">**EN:Use the multiplication operator to create a \"line\" of 50 dashes.**"
   ]
  },
  {
   "cell_type": "code",
   "execution_count": 3,
   "metadata": {
    "id": "9ruTWtlx8aEe"
   },
   "outputs": [
    {
     "name": "stdout",
     "output_type": "stream",
     "text": [
      "--------------------------------------------------\n"
     ]
    }
   ],
   "source": [
    "ch=\"-\"\n",
    "a=5*10\n",
    "i=a*ch\n",
    "print(i)"
   ]
  },
  {
   "cell_type": "markdown",
   "metadata": {
    "id": "Y8H6ln1_8aEi"
   },
   "source": [
    "#### **Exercice 18:** \n",
    ">**FR: Ecrire un programme qui demande a l'utilisateur d'entrer la temperature en degres celsius et qui retourne la temperaure en degre Fahrenheit. Formule: (0°C × 9/5) + 32 = 32°F .**\n",
    "\n",
    ">**EN: Write a program that asks the user to enter the temperature in degrees Celsius and returns the temperature in degrees Fahrenheit. Formula: (0°C × 9/5) + 32 = 32°F .**"
   ]
  },
  {
   "cell_type": "code",
   "execution_count": 1,
   "metadata": {
    "id": "6WTyRFR08aEj"
   },
   "outputs": [
    {
     "name": "stdout",
     "output_type": "stream",
     "text": [
      "entrer la temperature 15\n",
      "59.0\n"
     ]
    }
   ],
   "source": [
    "ch=float(input('entrer la temperature '))\n",
    "p=9/5\n",
    "d=(ch*p) + 32\n",
    "print(d)"
   ]
  },
  {
   "cell_type": "markdown",
   "metadata": {
    "id": "nFg9Kr2q8aEk"
   },
   "source": [
    "\n",
    "\n",
    "<center> <b> <span style=\"color:orange;\"> 🎉 FÉLICITATIONS! / CONGRATULATIONS! 🎉 </span> </b></center>"
   ]
  }
 ],
 "metadata": {
  "colab": {
   "name": "Exercices_01_Chaînes-de-caractères.ipynb",
   "provenance": []
  },
  "kernelspec": {
   "display_name": "Python 3",
   "language": "python",
   "name": "python3"
  },
  "language_info": {
   "codemirror_mode": {
    "name": "ipython",
    "version": 3
   },
   "file_extension": ".py",
   "mimetype": "text/x-python",
   "name": "python",
   "nbconvert_exporter": "python",
   "pygments_lexer": "ipython3",
   "version": "3.7.3"
  }
 },
 "nbformat": 4,
 "nbformat_minor": 1
}
