{
 "cells": [
  {
   "cell_type": "markdown",
   "metadata": {},
   "source": [
    "1. Compute the following expressions for a natural number n chosen by the user:\n"
   ]
  },
  {
   "cell_type": "markdown",
   "metadata": {},
   "source": [
    "i) i is odd"
   ]
  },
  {
   "cell_type": "code",
   "execution_count": null,
   "metadata": {},
   "outputs": [],
   "source": [
    "n=int(input(\"Entrer un nombre  : \"))\n",
    "b=0\n",
    "for i in range(0,n):\n",
    "    if i%2==1:\n",
    "        b=b+(i + 3)\n",
    "print(b)"
   ]
  },
  {
   "cell_type": "markdown",
   "metadata": {},
   "source": [
    "ii) i is even"
   ]
  },
  {
   "cell_type": "code",
   "execution_count": 11,
   "metadata": {},
   "outputs": [
    {
     "name": "stdout",
     "output_type": "stream",
     "text": [
      "Entrer un nombre  : 4\n",
      "15\n"
     ]
    }
   ],
   "source": [
    "n=int(input(\"Entrer un nombre  : \"))\n",
    "s=1\n",
    "for j in range(0,n):\n",
    "    if j%2==0:\n",
    "        s=s*(j + 3)\n",
    "print(s)"
   ]
  },
  {
   "cell_type": "markdown",
   "metadata": {},
   "source": [
    "2. Write a program that reads the number of the day of the week (from 0 to 6). If it is a\n",
    "working day, then the program will write the name of the corresponding day. Otherwise,\n",
    "it will write the word \"Weekend\"."
   ]
  },
  {
   "cell_type": "code",
   "execution_count": 10,
   "metadata": {},
   "outputs": [
    {
     "name": "stdout",
     "output_type": "stream",
     "text": [
      "entrer un nombre inferieur a six :3\n",
      "Jeudi\n"
     ]
    }
   ],
   "source": [
    "n=int(input(\"entrer un nombre inferieur a six :\" ))\n",
    "if n > 6:\n",
    "    print(\"le nombre n'est pas bon\")\n",
    "if n == 5 :\n",
    "    print(\"Weekend\")\n",
    "if n == 6 :\n",
    "    print(\"Weekend\")\n",
    "if n == 0 :\n",
    "    print(\"Lundi\")\n",
    "if n == 1 :\n",
    "    print(\"Mardi\")\n",
    "if n == 2 :\n",
    "    print(\"Mercredi\")\n",
    "if n == 3 :\n",
    "    print(\"Jeudi\")  \n",
    "if n == 4 :\n",
    "    print(\"Vendredi\")    "
   ]
  },
  {
   "cell_type": "markdown",
   "metadata": {},
   "source": [
    "3. Make a program that, given a month number (from 0 to 11), indicates how many days it\n",
    "has (28, 30 or 31), ignoring the leap years."
   ]
  },
  {
   "cell_type": "code",
   "execution_count": 14,
   "metadata": {},
   "outputs": [
    {
     "name": "stdout",
     "output_type": "stream",
     "text": [
      "Donner un numero de mois : 3\n",
      "ce mois est de 30jours\n"
     ]
    }
   ],
   "source": [
    "x=int(input(\"Donner un numero de mois : \" ))\n",
    "if x > 12:\n",
    "    print(\"Donner un bon numero!\")\n",
    "if x==0:\n",
    "    print(\"ce mois est de 28 ou 29 jours\")\n",
    "if x==0 or x==2 or x==4 or x==6 or x==7 or x==9 or x==11:\n",
    "    print(\"ce mois est de 31 jours\")\n",
    "else:\n",
    "    print(\"ce mois est de 30jours\")"
   ]
  },
  {
   "cell_type": "markdown",
   "metadata": {},
   "source": [
    "4. Write two versions of python code that displays your name 3 times. One version with a\n",
    "\"for loop\" and another version with a \"while loop\"."
   ]
  },
  {
   "cell_type": "code",
   "execution_count": 4,
   "metadata": {},
   "outputs": [
    {
     "name": "stdout",
     "output_type": "stream",
     "text": [
      "NDEYE SEYE DIOP\n",
      "NDEYE SEYE DIOP\n",
      "NDEYE SEYE DIOP\n"
     ]
    }
   ],
   "source": [
    "y=1\n",
    "for x in range (0,3):\n",
    "    y =y+1 \n",
    "    print (\"NDEYE SEYE DIOP\")"
   ]
  },
  {
   "cell_type": "code",
   "execution_count": 3,
   "metadata": {},
   "outputs": [
    {
     "name": "stdout",
     "output_type": "stream",
     "text": [
      "NDEYE SEYE DIOP\n",
      "NDEYE SEYE DIOP\n",
      "NDEYE SEYE DIOP\n"
     ]
    }
   ],
   "source": [
    "x=1\n",
    "while x <= 3:\n",
    "    print(\"NDEYE SEYE DIOP\")\n",
    "    x=x+1"
   ]
  },
  {
   "cell_type": "markdown",
   "metadata": {},
   "source": [
    "5. Given two numbers a0 and a1, the Fibonacci sequence they generate is constructed from\n",
    "the recursion formula an+1 = an + an−1. Calculate the first 15 terms of a Fibonacci\n",
    "sequence, asking the user the initial values."
   ]
  },
  {
   "cell_type": "code",
   "execution_count": 8,
   "metadata": {},
   "outputs": [
    {
     "name": "stdout",
     "output_type": "stream",
     "text": [
      "entrer une valeur initiale : 2\n",
      "entrer une valeur initiale : 5\n",
      "1\n",
      "1\n",
      "2\n",
      "3\n",
      "5\n",
      "8\n",
      "13\n",
      "21\n",
      "34\n",
      "55\n",
      "89\n",
      "144\n",
      "233\n",
      "377\n",
      "610\n"
     ]
    }
   ],
   "source": [
    "a=int(input(\"entrer une valeur initiale : \" ))\n",
    "b=int(input(\"entrer une valeur initiale : \" ))\n",
    "a=1\n",
    "b=0\n",
    "for i in range(0,15):\n",
    "    c=a+b\n",
    "    a=b\n",
    "    b=c\n",
    "    print(c)"
   ]
  },
  {
   "cell_type": "markdown",
   "metadata": {},
   "source": [
    "6. Compute the first 30 terms of the sequence defined by 2xn+2 − xn+1 − 6xn = 0 sequence,\n",
    "given any two initial values x0 and x1"
   ]
  },
  {
   "cell_type": "code",
   "execution_count": 14,
   "metadata": {},
   "outputs": [
    {
     "name": "stdout",
     "output_type": "stream",
     "text": [
      "4.0\n",
      "8.0\n",
      "12.0\n",
      "16.0\n",
      "20.0\n",
      "24.0\n",
      "28.0\n",
      "32.0\n",
      "36.0\n",
      "40.0\n",
      "44.0\n",
      "48.0\n",
      "52.0\n",
      "56.0\n",
      "60.0\n",
      "64.0\n",
      "68.0\n",
      "72.0\n",
      "76.0\n",
      "80.0\n",
      "84.0\n",
      "88.0\n",
      "92.0\n",
      "96.0\n",
      "100.0\n",
      "104.0\n",
      "108.0\n",
      "112.0\n",
      "116.0\n",
      "120.0\n",
      "124.0\n"
     ]
    }
   ],
   "source": [
    "x1=2\n",
    "x0=1\n",
    "s=0\n",
    "for i in range(0,31):\n",
    "    s=s+suite\n",
    "    suite=(1/2)*x1 + 3*x0\n",
    "    print(s)"
   ]
  },
  {
   "cell_type": "markdown",
   "metadata": {},
   "source": [
    "7.   a) Write python code to determine whether or not a year is a leap year. Be sure you\n",
    "know what a leap year is."
   ]
  },
  {
   "cell_type": "code",
   "execution_count": 25,
   "metadata": {},
   "outputs": [
    {
     "name": "stdout",
     "output_type": "stream",
     "text": [
      "Entrez l'annee a verifier:1800\n",
      "L'annee n'est pas une annee bissextile!\n"
     ]
    }
   ],
   "source": [
    "annee = int(input(\"Entrez l'annee a verifier:\"))\n",
    "if(annee%4==0 and annee%100!=0 or annee%400==0):\n",
    "    print(\"L'annee est une annee bissextile!\")\n",
    "else:\n",
    "    print(\"L'annee n'est pas une annee bissextile!\")"
   ]
  },
  {
   "cell_type": "markdown",
   "metadata": {},
   "source": [
    "b) Write the code using only logical operators, i.e. no conditional branching."
   ]
  },
  {
   "cell_type": "code",
   "execution_count": 32,
   "metadata": {},
   "outputs": [],
   "source": [
    "def bissextile(an):\n",
    "    return not an%400 or not an%4 and an%100!=0"
   ]
  },
  {
   "cell_type": "code",
   "execution_count": 35,
   "metadata": {},
   "outputs": [
    {
     "data": {
      "text/plain": [
       "True"
      ]
     },
     "execution_count": 35,
     "metadata": {},
     "output_type": "execute_result"
    }
   ],
   "source": [
    "bissextile(2020)"
   ]
  },
  {
   "cell_type": "markdown",
   "metadata": {},
   "source": [
    "8. a) Write python code that computes the sum of the square of the first n natural numbers.\n",
    "One version with a \"for loop\" and another version with a \"while loop\"."
   ]
  },
  {
   "cell_type": "code",
   "execution_count": 10,
   "metadata": {},
   "outputs": [
    {
     "name": "stdout",
     "output_type": "stream",
     "text": [
      "Donner un nonbre entier naturel8\n",
      "204\n"
     ]
    }
   ],
   "source": [
    "n=int(input(\"Donner un nonbre entier naturel : \" ))\n",
    "somme=0\n",
    "for i in range(1,n+1):\n",
    "    somme = somme + i*i\n",
    "print(somme)\n",
    "    "
   ]
  },
  {
   "cell_type": "code",
   "execution_count": 12,
   "metadata": {},
   "outputs": [
    {
     "name": "stdout",
     "output_type": "stream",
     "text": [
      "Donner un nonbre entier naturel :8\n",
      "204\n"
     ]
    }
   ],
   "source": [
    "n=int(input(\"Donner un nonbre entier naturel :\" ))\n",
    "somme=0\n",
    "i=1\n",
    "while i <= n:\n",
    "    somme = somme + i*i\n",
    "    i=i+1\n",
    "print(somme)\n",
    "    "
   ]
  },
  {
   "cell_type": "markdown",
   "metadata": {},
   "source": [
    "b) Write python code that prints, for a natural number M, the smallest natural number\n",
    "n such that 1\n",
    "2 + 22 +· · ·+n\n",
    "2 ≥ M. One version with a \"for loop\" and another version\n",
    "with a \"while loop\".\n",
    "    "
   ]
  },
  {
   "cell_type": "code",
   "execution_count": 26,
   "metadata": {},
   "outputs": [
    {
     "name": "stdout",
     "output_type": "stream",
     "text": [
      "entrer un entier naturel :8\n",
      "Le premier entier n tel que somme >= M est : 3\n"
     ]
    }
   ],
   "source": [
    "M=int(input(\"entrer un entier naturel :\" ))\n",
    "somme=0\n",
    "i=0\n",
    "while (somme + i*i) < M:\n",
    "    i=i+1\n",
    "print(\"Le premier entier n tel que somme >= M est : {}\".format(i))    \n",
    "           "
   ]
  },
  {
   "cell_type": "code",
   "execution_count": 18,
   "metadata": {},
   "outputs": [
    {
     "name": "stdout",
     "output_type": "stream",
     "text": [
      "entrer un entier naturel :8\n",
      "Le premier entier n tel que somme >= M est : 3\n",
      "Le premier entier n tel que somme >= M est : 4\n",
      "Le premier entier n tel que somme >= M est : 5\n",
      "Le premier entier n tel que somme >= M est : 6\n",
      "Le premier entier n tel que somme >= M est : 7\n",
      "Le premier entier n tel que somme >= M est : 8\n"
     ]
    }
   ],
   "source": [
    "M=int(input(\"entrer un entier naturel :\" ))\n",
    "somme=0\n",
    "for i in range(M+1):\n",
    "    if (somme + i*i) >= M:\n",
    "          print(\"Le premier entier n tel que somme >= M est : {}\".format(i))"
   ]
  },
  {
   "cell_type": "markdown",
   "metadata": {},
   "source": [
    "9. a) Write python code that prints all the divisors of a given natural number."
   ]
  },
  {
   "cell_type": "code",
   "execution_count": 48,
   "metadata": {},
   "outputs": [
    {
     "name": "stdout",
     "output_type": "stream",
     "text": [
      "donner un entier naturel :8\n",
      "1\n",
      "2\n",
      "4\n",
      "8\n"
     ]
    }
   ],
   "source": [
    "f=int(input(\"donner un entier naturel :\" ))\n",
    "for i in range(1,f+1):\n",
    "    if (f%i==0):\n",
    "        print(i)"
   ]
  },
  {
   "cell_type": "markdown",
   "metadata": {},
   "source": [
    "b) Read an integer number input by the user and calculate its prime factors. This will\n",
    "just be some of its divisors."
   ]
  },
  {
   "cell_type": "code",
   "execution_count": 58,
   "metadata": {},
   "outputs": [
    {
     "name": "stdout",
     "output_type": "stream",
     "text": [
      "donner un entier :15\n",
      "3\n",
      "5\n"
     ]
    }
   ],
   "source": [
    "d=int(input(\"donner un entier :\" ))\n",
    "i=2\n",
    "while i <= d:\n",
    "    if d%i==0:\n",
    "        print(i)\n",
    "        d=d/i \n",
    "    else:   \n",
    "        i=i+1"
   ]
  },
  {
   "cell_type": "markdown",
   "metadata": {},
   "source": [
    "10. Read an integer number between n 0 and 9 and print its multiplication table up to N\n",
    "where N is another another natural number read by the program."
   ]
  },
  {
   "cell_type": "code",
   "execution_count": 65,
   "metadata": {},
   "outputs": [
    {
     "name": "stdout",
     "output_type": "stream",
     "text": [
      "Entrez un nombre entre 0 et 9 :6\n",
      "entrer un nombre : 7\n",
      "6 x 1 = 6\n",
      "6 x 2 = 12\n",
      "6 x 3 = 18\n",
      "6 x 4 = 24\n",
      "6 x 5 = 30\n",
      "6 x 6 = 36\n",
      "6 x 7 = 42\n",
      "6 x 8 = 48\n",
      "6 x 9 = 54\n",
      "6 x 10 = 60\n",
      "7 x 1 = 7\n",
      "7 x 2 = 14\n",
      "7 x 3 = 21\n",
      "7 x 4 = 28\n",
      "7 x 5 = 35\n",
      "7 x 6 = 42\n",
      "7 x 7 = 49\n",
      "7 x 8 = 56\n",
      "7 x 9 = 63\n",
      "7 x 10 = 70\n"
     ]
    }
   ],
   "source": [
    "n=int(input(\"Entrez un nombre entre 0 et 9 :\" ))\n",
    "if n>=10:\n",
    "    print(\"error\")\n",
    "N=int(input(\"entrer un nombre : \" )) \n",
    "if N<n:\n",
    "    print(\"error\")\n",
    "for i in range(n,N+1):\n",
    "    for j in range(1,11):\n",
    "        print(i,\"x\",j,\"=\",i*j)"
   ]
  },
  {
   "cell_type": "markdown",
   "metadata": {},
   "source": [
    "11. Write a program that prints all the numbers between 0 and 40 that are multiples of 3, 7\n",
    "or 11."
   ]
  },
  {
   "cell_type": "code",
   "execution_count": 68,
   "metadata": {},
   "outputs": [
    {
     "name": "stdout",
     "output_type": "stream",
     "text": [
      "4\n",
      "7\n",
      "8\n",
      "11\n",
      "12\n",
      "14\n",
      "16\n",
      "20\n",
      "21\n",
      "22\n",
      "24\n",
      "28\n",
      "32\n",
      "33\n",
      "35\n",
      "36\n",
      "40\n"
     ]
    }
   ],
   "source": [
    "i=1\n",
    "for i in range(1,41):\n",
    "    if i%7==0 or i%4==0 or i%11==0:\n",
    "        print(i)        "
   ]
  },
  {
   "cell_type": "markdown",
   "metadata": {},
   "source": [
    "12. Write python code that prints the floor of a float x. Recall that the floor of a float x is the\n",
    "largest integer value less than or equal to x, i.e. if E[x] is the floor of x, then it satisfies,\n",
    "E[x] = 1 + E[x − 1]"
   ]
  },
  {
   "cell_type": "code",
   "execution_count": 72,
   "metadata": {},
   "outputs": [
    {
     "name": "stdout",
     "output_type": "stream",
     "text": [
      "entrer un decimal : 15.2\n",
      "15\n"
     ]
    }
   ],
   "source": [
    "from math import*\n",
    "a=float(input(\"entrer un decimal : \" ))\n",
    "b=floor(a)\n",
    "print(b)"
   ]
  },
  {
   "cell_type": "markdown",
   "metadata": {},
   "source": [
    "13. Given a point in the plane by its Cartesian coordinates, determine in which quadrant it is\n",
    "(1st, 2nd, 3rd, 4th), if it lies on an axis, or if it is the origin. Do this for several points in\n",
    "the same execution of the program until the user quits."
   ]
  },
  {
   "cell_type": "code",
   "execution_count": 74,
   "metadata": {},
   "outputs": [
    {
     "name": "stdout",
     "output_type": "stream",
     "text": [
      "entrer l'abcisse du point :-8\n",
      "entrer l'ordonne du point :2\n",
      "le point est au niveau du 2em cadrant\n"
     ]
    }
   ],
   "source": [
    "a=int(input(\"entrer l'abcisse du point :\" ))\n",
    "b=int(input(\"entrer l'ordonne du point :\" ))\n",
    "point=[a,b]\n",
    "if point[0] > 0 and point[1] > 0:\n",
    "    print(\"le point est au niveau du 1er cadrant\")\n",
    "if point[0] < 0 and point[1] < 0:   \n",
    "    print(\"le point est au niveau du 3eme cadrant\")\n",
    "if point[0] > 0 and point[1] < 0: \n",
    "    print(\"le point est au niveau du 4eme cadrant\")\n",
    "if point[0] < 0 and point[1] > 0: \n",
    "    print(\"le point est au niveau du 2em cadrant\")    "
   ]
  },
  {
   "cell_type": "markdown",
   "metadata": {},
   "source": [
    "14. Ask for an integer number between 0 and 9, denoted x. Once the user has entered a correct\n",
    "number (that is one in the range [0..10)) the program asks for a second integer number\n",
    "between 0 and 255, denoted max. The program continues asking for the number until it\n",
    "is correct (that it is in the range [0..256)). When this is done, show all multiples of x that\n",
    "are between 0 and max. Then, ask the user whether he/she wants to continue; if in the\n",
    "affirmative, ask for another couple of numbers, otherwise finish."
   ]
  },
  {
   "cell_type": "code",
   "execution_count": null,
   "metadata": {},
   "outputs": [],
   "source": [
    "\n",
    "        "
   ]
  },
  {
   "cell_type": "code",
   "execution_count": null,
   "metadata": {},
   "outputs": [],
   "source": []
  },
  {
   "cell_type": "code",
   "execution_count": null,
   "metadata": {},
   "outputs": [],
   "source": []
  },
  {
   "cell_type": "code",
   "execution_count": null,
   "metadata": {},
   "outputs": [],
   "source": []
  },
  {
   "cell_type": "code",
   "execution_count": 71,
   "metadata": {},
   "outputs": [
    {
     "name": "stdout",
     "output_type": "stream",
     "text": [
      "12\n"
     ]
    }
   ],
   "source": [
    "\n"
   ]
  },
  {
   "cell_type": "code",
   "execution_count": null,
   "metadata": {},
   "outputs": [],
   "source": []
  }
 ],
 "metadata": {
  "kernelspec": {
   "display_name": "Python 3",
   "language": "python",
   "name": "python3"
  },
  "language_info": {
   "codemirror_mode": {
    "name": "ipython",
    "version": 3
   },
   "file_extension": ".py",
   "mimetype": "text/x-python",
   "name": "python",
   "nbconvert_exporter": "python",
   "pygments_lexer": "ipython3",
   "version": "3.7.3"
  }
 },
 "nbformat": 4,
 "nbformat_minor": 2
}
